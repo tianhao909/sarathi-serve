{
 "cells": [
  {
   "cell_type": "code",
   "execution_count": 1,
   "metadata": {},
   "outputs": [
    {
     "ename": "ModuleNotFoundError",
     "evalue": "No module named 'seaborn'",
     "output_type": "error",
     "traceback": [
      "\u001b[0;31m---------------------------------------------------------------------------\u001b[0m",
      "\u001b[0;31mModuleNotFoundError\u001b[0m                       Traceback (most recent call last)",
      "Cell \u001b[0;32mIn[1], line 4\u001b[0m\n\u001b[1;32m      2\u001b[0m \u001b[38;5;28;01mimport\u001b[39;00m \u001b[38;5;21;01mmatplotlib\u001b[39;00m\u001b[38;5;21;01m.\u001b[39;00m\u001b[38;5;21;01mpyplot\u001b[39;00m \u001b[38;5;28;01mas\u001b[39;00m \u001b[38;5;21;01mplt\u001b[39;00m\n\u001b[1;32m      3\u001b[0m \u001b[38;5;28;01mimport\u001b[39;00m \u001b[38;5;21;01myaml\u001b[39;00m\n\u001b[0;32m----> 4\u001b[0m \u001b[38;5;28;01mimport\u001b[39;00m \u001b[38;5;21;01mseaborn\u001b[39;00m \u001b[38;5;28;01mas\u001b[39;00m \u001b[38;5;21;01msns\u001b[39;00m\n\u001b[1;32m      7\u001b[0m \u001b[38;5;28;01mfrom\u001b[39;00m \u001b[38;5;21;01mpathlib\u001b[39;00m \u001b[38;5;28;01mimport\u001b[39;00m Path\n\u001b[1;32m      8\u001b[0m \u001b[38;5;28;01mfrom\u001b[39;00m \u001b[38;5;21;01mtyping\u001b[39;00m \u001b[38;5;28;01mimport\u001b[39;00m Dict\n",
      "\u001b[0;31mModuleNotFoundError\u001b[0m: No module named 'seaborn'"
     ]
    }
   ],
   "source": [
    "import pandas as pd\n",
    "import matplotlib.pyplot as plt\n",
    "import yaml\n",
    "import seaborn as sns\n",
    "\n",
    "\n",
    "from pathlib import Path\n",
    "from typing import Dict"
   ]
  },
  {
   "cell_type": "code",
   "execution_count": 2,
   "metadata": {},
   "outputs": [],
   "source": [
    "OUTPUT_DIR = f\"{Path.cwd()}/high_tail_latency_output\"\n",
    "MODEL_NAME = \"01-ai/Yi-34B-200K\"\n",
    "TP_DIMENSION = 2\n",
    "TRACES = [\n",
    "    { \n",
    "        \"name\": \"openchat/openchat_sharegpt4_dataset_filtered\",\n",
    "        \"length_provider\": \"trace\",\n",
    "        \"trace_file\": \"./data/processed_traces/sharegpt_8k_filtered_stats_llama2_tokenizer.csv\",\n",
    "        \"num_requests\": 128,\n",
    "        \"max_seq_length\": 8192\n",
    "    }\n",
    "]\n",
    "SCHEDULERS = [\n",
    "    { \"type\": \"vllm\", \"chunk_size\": None, \"max_batch_size\": 256 },\n",
    "    { \"type\": \"sarathi\", \"chunk_size\": 1536, \"max_batch_size\": 256},\n",
    "]\n",
    "# QPS = [1.0]\n",
    "QPS = [0.55, 0.7, 1.0]"
   ]
  },
  {
   "cell_type": "code",
   "execution_count": 3,
   "metadata": {},
   "outputs": [],
   "source": [
    "def generate_runs():\n",
    "    devices = ','.join([str(x) for x in range(TP_DIMENSION)])\n",
    "    commands = []\n",
    "    for trace in TRACES:\n",
    "        for qps in QPS:\n",
    "            for scheduler in SCHEDULERS:\n",
    "                base_command = (\n",
    "                    f\"CUDA_VISIBLE_DEVICES={devices} python sarathi/benchmark/main.py \\\\\\n\"\n",
    "                    f\"--output_dir {OUTPUT_DIR} \\\\\\n\"\n",
    "                    f\"--model_name {MODEL_NAME} \\\\\\n\"\n",
    "                    f\"--model_max_model_len {trace['max_seq_length']} \\\\\\n\"\n",
    "                    f\"--cluster_num_replicas 1 \\\\\\n\"\n",
    "                    f\"--model_tensor_parallel_degree {TP_DIMENSION} \\\\\\n\"\n",
    "                    f\"--model_pipeline_parallel_degree 1 \\\\\\n\"\n",
    "                    f\"--request_generator_provider synthetic \\\\\\n\"\n",
    "                    f\"--synthetic_request_generator_interval_provider poisson \\\\\\n\"\n",
    "                    f\"--poisson_request_interval_generator_qps {qps} \\\\\\n\"\n",
    "                    f\"--synthetic_request_generator_num_requests {trace['num_requests']} \\\\\\n\"\n",
    "                    f\"--synthetic_request_generator_length_provider trace \\\\\\n\"\n",
    "                    f\"--trace_request_length_generator_trace_file {trace['trace_file']} \\\\\\n\"\n",
    "                    f\"--trace_request_length_generator_max_tokens {trace['max_seq_length']} \\\\\\n\"\n",
    "                    f\"--trace_request_length_generator_prefill_scale_factor 1 \\\\\\n\"\n",
    "                    f\"--trace_request_length_generator_decode_scale_factor 1 \\\\\\n\"\n",
    "                    f\"--metrics_store_keep_individual_batch_metrics true \\\\\\n\"\n",
    "                    f\"--metrics_store_enable_op_level_metrics false \\\\\\n\"\n",
    "                )\n",
    "                if scheduler['type'] == \"vllm\":\n",
    "                    command = base_command + (\n",
    "                        f\"--replica_scheduler_provider vllm \\\\\\n\"\n",
    "                        f\"--replica_scheduler_max_batch_size {scheduler['max_batch_size']} \\\\\\n\"\n",
    "                        f\"--vllm_scheduler_max_tokens_in_batch {trace['max_seq_length']} \\n\"\n",
    "                    )\n",
    "                elif scheduler['type'] == \"sarathi\":\n",
    "                    command = base_command + (\n",
    "                        f\"--replica_scheduler_provider sarathi \\\\\\n\"\n",
    "                        f\"--replica_scheduler_max_batch_size {scheduler['max_batch_size']} \\\\\\n\"\n",
    "                        f\"--sarathi_scheduler_chunk_size {scheduler['chunk_size']} \\\\\\n\"\n",
    "                        f\"--sarathi_scheduler_enable_rolling_prefills true \\\\\\n\"\n",
    "                        f\"--sarathi_scheduler_enable_dynamic_chunking_schedule false\\n\"\n",
    "                    )\n",
    "                commands.append(command)\n",
    "    with open(f\"high_tail_latency.sh\", \"w\") as f:\n",
    "        f.write(\"#!/bin/bash\\n\")\n",
    "        f.write(\"set -x\\n\")\n",
    "        for command in commands:\n",
    "            f.write(command + \"\\n\")\n"
   ]
  },
  {
   "cell_type": "code",
   "execution_count": 4,
   "metadata": {},
   "outputs": [],
   "source": [
    "def _get_run_directories():\n",
    "    rootdir = Path(OUTPUT_DIR)\n",
    "    subdirectory_list = [\n",
    "        directory for directory in rootdir.iterdir() if directory.is_dir()\n",
    "    ]\n",
    "    return subdirectory_list"
   ]
  },
  {
   "cell_type": "code",
   "execution_count": 5,
   "metadata": {},
   "outputs": [],
   "source": [
    "def _get_df():\n",
    "    run_directories = _get_run_directories()\n",
    "    run_directories.sort()\n",
    "\n",
    "    datapoints = []\n",
    "\n",
    "    for run_dir in run_directories:\n",
    "        try:\n",
    "            with open(\n",
    "                f\"{run_dir}/benchmark_config.yml\", \"r\"\n",
    "            ) as benchmark_config_file, open(\n",
    "                f\"{run_dir}/replica_0/plots/decode_token_execution_plus_preemption_time.csv\", \"r\"\n",
    "            ) as tbt_file:\n",
    "                benchmark_config = yaml.safe_load(benchmark_config_file)\n",
    "                tbt_df = pd.read_csv(tbt_file)\n",
    "\n",
    "                scheduler = benchmark_config[\"replica_scheduler_provider\"]\n",
    "                if scheduler == \"sarathi\":\n",
    "                    scheduler += f\"_{benchmark_config['sarathi_scheduler_chunk_size']}\"\n",
    "                qps = benchmark_config[\"poisson_request_interval_generator_qps\"]\n",
    "                \n",
    "                datapoints.append({\n",
    "                    \"scheduler\": scheduler,\n",
    "                    \"qps\": qps,\n",
    "                    \"tail_latency\": tbt_df[\"decode_token_execution_plus_preemption_time\"].quantile(0.99)\n",
    "                })\n",
    "        except FileNotFoundError as e:\n",
    "            print(f\"WARN: Skipping {run_dir} due to {e}\")\n",
    "    return pd.DataFrame(datapoints)\n"
   ]
  },
  {
   "cell_type": "code",
   "execution_count": 6,
   "metadata": {},
   "outputs": [],
   "source": [
    "def plot():\n",
    "    df = _get_df()\n",
    "    # sns.set_theme(style=\"whitegrid\")\n",
    "    sns.barplot(data=df, x='qps', y='tail_latency', hue='scheduler')\n",
    "    plt.show()"
   ]
  },
  {
   "cell_type": "code",
   "execution_count": 7,
   "metadata": {},
   "outputs": [],
   "source": [
    "# generate_runs()"
   ]
  },
  {
   "cell_type": "code",
   "execution_count": 8,
   "metadata": {},
   "outputs": [
    {
     "name": "stdout",
     "output_type": "stream",
     "text": [
      "WARN: Skipping /home/amey/llm-batching/osdi-experiments/figure-1/high_tail_latency_output/2024-04-25_17-34-02-736375 due to [Errno 2] No such file or directory: '/home/amey/llm-batching/osdi-experiments/figure-1/high_tail_latency_output/2024-04-25_17-34-02-736375/replica_0/plots/decode_token_execution_plus_preemption_time.csv'\n"
     ]
    },
    {
     "data": {
      "image/png": "[encoded data removed]",
      "text/plain": [
       "<Figure size 640x480 with 1 Axes>"
      ]
     },
     "metadata": {},
     "output_type": "display_data"
    }
   ],
   "source": [
    "plot()"
   ]
  }
 ],
 "metadata": {
  "kernelspec": {
   "display_name": "vidur02",
   "language": "python",
   "name": "python3"
  },
  "language_info": {
   "codemirror_mode": {
    "name": "ipython",
    "version": 3
   },
   "file_extension": ".py",
   "mimetype": "text/x-python",
   "name": "python",
   "nbconvert_exporter": "python",
   "pygments_lexer": "ipython3",
   "version": "3.10.16"
  }
 },
 "nbformat": 4,
 "nbformat_minor": 2
}
